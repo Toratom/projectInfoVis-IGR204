{
 "cells": [
  {
   "cell_type": "code",
   "execution_count": 101,
   "metadata": {},
   "outputs": [],
   "source": [
    "import csv\n",
    "import numpy as np\n",
    "from collections import defaultdict"
   ]
  },
  {
   "cell_type": "markdown",
   "metadata": {},
   "source": [
    "# Data extraction\n",
    "### Source\n",
    "Raw csv can be found locally [here](./tus_00week_1_Data.csv) and remotly on Eurostat website [here](http://appsso.eurostat.ec.europa.eu/nui/submitViewTableAction.do) .  \n",
    "See also [explanatory metadata](https://ec.europa.eu/eurostat/cache/metadata/en/tus_esms.htm).\n",
    "### Extract data from csv into nested dict"
   ]
  },
  {
   "cell_type": "code",
   "execution_count": 102,
   "metadata": {},
   "outputs": [
    {
     "name": "stdout",
     "output_type": "stream",
     "text": [
      "Initial fields are : UNIT, GEO, TIME, DAYSWEEK, SEX, ACL00, Value, Flag and Footnotes \n",
      "\n",
      "Current fields are : GEO, TIME, DAYSWEEK, SEX, ACL00\n"
     ]
    }
   ],
   "source": [
    "with open('tus_00week_1_Data.csv', newline='') as csvfile:\n",
    "    csv_reader = csv.reader(csvfile, delimiter=',', quotechar='\"')\n",
    "    print(\"Initial fields are :\", ', '.join(next(csv_reader)), '\\n' ) \n",
    "    \n",
    "    Nest_dict = lambda: defaultdict(Nest_dict)\n",
    "    nest_dict = Nest_dict()\n",
    "    for row in csv_reader:\n",
    "        time_string = row[6]\n",
    "        # select Time spent only (not Participation time nor Participation rate)\n",
    "        if row[0]==\"Time spent (hh:mm)\":\n",
    "            try:\n",
    "                hours, minutes = map(int, time_string.split(':'))\n",
    "                nest_dict[row[1]][row[2]][row[3]][row[4]][row[5]] = hours * 60 + minutes     \n",
    "            except Exception as err: \n",
    "                nest_dict[row[1]][row[2]][row[3]][row[4]][row[5]] = None         \n",
    "    print(\"Current fields are : GEO, TIME, DAYSWEEK, SEX, ACL00\") "
   ]
  },
  {
   "cell_type": "markdown",
   "metadata": {},
   "source": [
    "### Convert nested dict into ndarray and save key names"
   ]
  },
  {
   "cell_type": "code",
   "execution_count": 103,
   "metadata": {},
   "outputs": [],
   "source": [
    "def convert_nest_dict_2_list(nest_dict):\n",
    "    local_list = []\n",
    "    if not isinstance(nest_dict, defaultdict):\n",
    "        return nest_dict\n",
    "    for value in nest_dict.values():\n",
    "        local_list.append(convert_nest_dict_2_list(value))\n",
    "    return local_list"
   ]
  },
  {
   "cell_type": "code",
   "execution_count": 104,
   "metadata": {},
   "outputs": [
    {
     "name": "stdout",
     "output_type": "stream",
     "text": [
      "Current fields are : GEO, TIME, DAYSWEEK, SEX, ACL00\n",
      "Data shape: (21, 2, 3, 3, 56). There is NoneTyped data left: True\n"
     ]
    }
   ],
   "source": [
    "data_2y_array = np.asarray(convert_nest_dict_2_list(nest_dict), dtype=object)\n",
    "print(\"Current fields are : GEO, TIME, DAYSWEEK, SEX, ACL00\") \n",
    "print(f\"Data shape: {data_2y_array.shape}.\\\n",
    " There is NoneTyped data left: {np.any(data_2y_array==None)}\")"
   ]
  },
  {
   "cell_type": "code",
   "execution_count": 105,
   "metadata": {},
   "outputs": [
    {
     "name": "stdout",
     "output_type": "stream",
     "text": [
      "Current fields are : GEO, TIME, DAYSWEEK, SEX, ACL00\n",
      "[['Belgium', 'Bulgaria', 'Germany (until 1990 former territory of the FRG)', 'Estonia', 'Greece', 'Spain', 'France', 'Italy', 'Latvia', 'Lithuania', 'Luxembourg', 'Hungary', 'Netherlands', 'Austria', 'Poland', 'Romania', 'Slovenia', 'Finland', 'Norway', 'United Kingdom', 'Serbia'], ['2000', '2010'], ['All days of the week', 'Monday to Friday', 'Saturday to Sunday'], ['Total', 'Males', 'Females'], ['Total', 'Personal care', 'Sleep', 'Eating', 'Other and/or unspecified personal care', 'Employment, related activities and travel as part of/during main and second job', 'Main and second job and related travel', 'Activities related to employment and unspecified employment', 'Study', 'School and university except homework', 'Homework', 'Free time study', 'Household and family care', 'Food management except dish washing', 'Dish washing', 'Cleaning dwelling', 'Household upkeep except cleaning dwelling', 'Laundry', 'Ironing', 'Handicraft and producing textiles and other care for textiles', 'Gardening; other pet care', 'Tending domestic animals', 'Caring for pets', 'Walking the dog', 'Construction and repairs ', 'Shopping and services', 'Childcare, except teaching, reading and talking', 'Teaching, reading and talking with child', 'Household management and help family member', 'Leisure, social and associative life', 'Organisational work', 'Informal help to other households', 'Participatory activities', 'Visiting and feasts', 'Other social life', 'Entertainment and culture', 'Resting', 'Walking and hiking', 'Sports and outdoor activities except walking and hiking', 'Computer games', 'Computing', 'Hobbies and games except computing and computer games', 'Reading books', 'Reading, except books', 'TV and video', 'Radio and music', 'Unspecified leisure ', 'Travel except travel related to jobs', 'Travel to/from work', 'Travel related to study', 'Travel related to shopping and services', 'Transporting a child', 'Travel related to other household purposes', 'Travel related to leisure, social and associative life', 'Unspecified travel', 'Unspecified time use']]\n"
     ]
    }
   ],
   "source": [
    "keys_list = []\n",
    "def convert_nest_dict_2_list(nest_dict):\n",
    "    if not isinstance(nest_dict, defaultdict):\n",
    "        return 1\n",
    "    keys_list.append(list(nest_dict.keys()))\n",
    "    first_value = list(nest_dict.values())[0]\n",
    "    convert_nest_dict_2_list(first_value)\n",
    "        \n",
    "convert_nest_dict_2_list(nest_dict)\n",
    "print(\"Current fields are : GEO, TIME, DAYSWEEK, SEX, ACL00\")\n",
    "print(keys_list)"
   ]
  },
  {
   "cell_type": "markdown",
   "metadata": {},
   "source": [
    "### Aggregate TIME (2000 and 2010) by selecting most recent available data"
   ]
  },
  {
   "cell_type": "code",
   "execution_count": 106,
   "metadata": {},
   "outputs": [
    {
     "name": "stdout",
     "output_type": "stream",
     "text": [
      "Current fields are : GEO, DAYSWEEK, SEX, ACL00\n",
      "Data shape: (21, 3, 3, 56). There is NoneTyped data left: False\n"
     ]
    }
   ],
   "source": [
    "data_array = np.array([ data_2y_array[k,0,:,:,:]\n",
    "                       if np.any(data_2y_array[k,1,:,:,:]==None)\n",
    "                       else data_2y_array[k,1,:,:,:]\n",
    "                       for k in range(data_2y_array.shape[0])])\n",
    "print(\"Current fields are : GEO, DAYSWEEK, SEX, ACL00\") \n",
    "print(f\"Data shape: {data_array.shape}. There is NoneTyped data left: {np.any(data_array==None)}\")"
   ]
  },
  {
   "cell_type": "markdown",
   "metadata": {},
   "source": [
    "### Fields description of data_array\n",
    "\n",
    "* GEO\n",
    "| Index  |                  Code             |                  Label                                                       |\n",
    "|----|----------------------------------|--------------------------------------------------------------------------------|\n",
    "| 0  |                  BE              |                  Belgium                                                       |\n",
    "| 1  |                  BG              |                  Bulgaria                                                      |\n",
    "| 2  |                  DE              |                  Germany (until 1990 former territory of the FRG)              |\n",
    "| 3  |                  EE              |                  Estonia                                                       |\n",
    "| 4  |                  EL              |                  Greece                                                        |\n",
    "| 5  |                  ES              |                  Spain                                                         |\n",
    "| 6  |                  FR              |                  France                                                        |\n",
    "| 7  |                  IT              |                  Italy                                                         |\n",
    "| 8  |                  LV              |                  Latvia                                                        |\n",
    "| 9  |                  LT              |                  Lithuania                                                     |\n",
    "| 10 |                  LU              |                  Luxembourg                                                    |\n",
    "| 11 |                  HU              |                  Hungary                                                       |\n",
    "| 12 |                  NL              |                  Netherlands                                                   |\n",
    "| 13 |                  AT              |                  Austria                                                       |\n",
    "| 14 |                  PL              |                  Poland                                                        |\n",
    "| 15 |                  RO              |                  Romania                                                       |\n",
    "| 16 |                  SI              |                  Slovenia                                                      |\n",
    "| 17 |                  FI              |                  Finland                                                       |\n",
    "| 18 |                  NO              |                  Norway                                                        |\n",
    "| 19 |                  UK              |                  United Kingdom                                                |\n",
    "| 20 |                  RS              |                  Serbia                                                        |\n",
    "\n",
    "<br>\n",
    "\n",
    "* DAYSWEEK\n",
    "|Index|Code|Label|\n",
    "|---|------|----------------------|\n",
    "| 0 | D1-7 | All days of the week |\n",
    "| 1 | D1-5 | Monday to Friday     |\n",
    "| 2 | D6-7 | Saturday to Sunday   |\n",
    "\n",
    "<br>\n",
    "\n",
    "* SEX\n",
    "|Index|              Code             |                  Label                |\n",
    "|---|---------------------------------|---------------------------------------|\n",
    "| 0 |                  T              |                  Total                |\n",
    "| 1 |                  M              |                  Males                |\n",
    "| 2 |                  F              |                  Females              |\n",
    "\n",
    "<br>\n",
    "\n",
    "* ACL00 (activities)\n",
    "| Index|      Code           |       Label                                                                      |                     Sub-Label                                    |\n",
    "|----|-----------------------|-----------------------------------------------------------------------------------|-----------------------------------------------------------------|\n",
    "| 0  |        TOTAL          | Total                                                                             |                                                                 |\n",
    "| 1  |        AC0            | Personal   care                                                                   |                                                                 |\n",
    "| 2  |        AC01           |    ├                                                                             | Sleep                                                           |\n",
    "| 3  |        AC02           | ├                                                                                 | Eating                                                          |\n",
    "| 4  |        AC03           | └                                                                                 | Other and/or unspecified   personal care                        |\n",
    "| 5  |        AC1_TR         | Employment,   related activities and travel<br> as part of/during main and second job |                                                                 |\n",
    "| 6  |        AC1A           | ├                                                                                 | Main and second job and   related travel                        |\n",
    "| 7  |        AC1B           | └                                                                                 | Activities   related to employment and unspecified employment   |\n",
    "| 8  |        AC2            | Study                                                                             |                                                                 |\n",
    "| 9  |        AC21A          | ├                                                                                 | School and university except   homework                         |\n",
    "| 10 |        AC212          | ├                                                                                 | Homework                                                        |\n",
    "| 11 |        AC22           | └                                                                                 | Free time   study                                               |\n",
    "| 12 |        AC3            | Household   and family care                                                       |                                                                 |\n",
    "| 13 |        AC31A          | ├                                                                                 | Food management except dish   washing                           |\n",
    "| 14 |        AC313          | ├                                                                                 | Dish washing                                                    |\n",
    "| 15 |        AC321          | ├                                                                                 | Cleaning   dwelling                                             |\n",
    "| 16 |        AC32A          | ├                                                                                 | Household upkeep except   cleaning dwelling                     |\n",
    "| 17 |        AC331          | ├                                                                                 | Laundry                                                         |\n",
    "| 18 |        AC332          | ├                                                                                 | Ironing                                                         |\n",
    "| 19 |        AC33A          | ├                                                                                 | Handicraft   and producing textiles and other care for textiles |\n",
    "| 20 |        AC34A          | ├                                                                                 | Gardening;   other pet care                                     |\n",
    "| 21 |        AC342          | ├                                                                                 | Tending   domestic animals                                      |\n",
    "| 22 |        AC343          | ├                                                                                 | Caring for   pets                                               |\n",
    "| 23 |        AC344          | ├                                                                                 | Walking   the dog                                               |\n",
    "| 24 |        AC35           | ├                                                                                 | Construction   and repairs                                      |\n",
    "| 25 |        AC36           | ├                                                                                 | Shopping   and services                                         |\n",
    "| 26 |        AC38A          | ├                                                                                 | Childcare, except   teaching, reading and talking               |\n",
    "| 27 |        AC38B          | ├                                                                                 | Teaching, reading and   talking with child                      |\n",
    "| 28 |        AC37_39        | └                                                                                 | Household management and   help family member                   |\n",
    "| 29 |        AC4-8          | Leisure, social and associative   life                                            |                                                                 |\n",
    "| 30 |        AC41           | ├                                                                                 | Organisational   work                                           |\n",
    "| 31 |        AC42           | ├                                                                                 | Informal help to other households                               |\n",
    "| 32 |        AC43           | ├                                                                                 | Participatory   activities                                      |\n",
    "| 33 |        AC51A          | ├                                                                                 | Visiting   and feasts                                           |\n",
    "| 34 |        AC51B          | ├                                                                                 | Other   social life                                             |\n",
    "| 35 |        AC52           | ├                                                                                 | Entertainment   and culture                                     |\n",
    "| 36 |        AC53           | ├                                                                                 | Resting                                                         |\n",
    "| 37 |        AC611          | ├                                                                                 | Walking   and hiking                                            |\n",
    "| 38 |        AC6A           | ├                                                                                 | Sports and   outdoor activities except walking and hiking       |\n",
    "| 39 |        AC733          | ├                                                                                 | Computer   games                                                |\n",
    "| 40 |        AC7A           | ├                                                                                 | Computing                                                       |\n",
    "| 41 |        AC7B           | ├                                                                                 | Hobbies and   games except computing and computer games         |\n",
    "| 42 |        AC812          | ├                                                                                 | Reading   books                                                 |\n",
    "| 43 |        AC811          | ├                                                                                 | Reading,   except books                                         |\n",
    "| 44 |        AC82           | ├                                                                                 | TV and video                                                    |\n",
    "| 45 |        AC83           | ├                                                                                 | Radio and   music                                               |\n",
    "| 46 |        AC4-8NSP       | └                                                                                 | Unspecified   leisure                                           |\n",
    "| 47 |        AC9A           | Travel except travel related to   jobs                                            |                                                                 |\n",
    "| 48 |        AC913          | ├                                                                                 | Travel   to/from work                                           |\n",
    "| 49 |        AC9B           | ├                                                                                 | Travel   related to study                                       |\n",
    "| 50 |        AC936          | ├                                                                                 | Travel related to shopping   and services                       |\n",
    "| 51 |        AC938          | ├                                                                                 | Transporting   a child                                          |\n",
    "| 52 |        AC9C           | ├                                                                                 | Travel related to other   household purposes                    |\n",
    "| 53 |        AC9D           | ├                                                                                 | Travel related   to leisure, social and associative life        |\n",
    "| 54 |        AC90NSP        | ├                                                                                 | Unspecified   travel                                            |\n",
    "| 55 |        AC99NSP        | └                                                                                 | Unspecified   time use                                          |"
   ]
  },
  {
   "cell_type": "markdown",
   "metadata": {},
   "source": [
    "### Export as csv"
   ]
  },
  {
   "cell_type": "code",
   "execution_count": 107,
   "metadata": {},
   "outputs": [],
   "source": [
    "# example : export Belgium, All days of the week, 2D array\n",
    "np.savetxt(\"foo.csv\", data_array[0,0,:,:], delimiter=\",\")"
   ]
  },
  {
   "cell_type": "code",
   "execution_count": 109,
   "metadata": {},
   "outputs": [],
   "source": [
    "GEO = keys_list[0]\n",
    "DAYSWEEK, SEX, ACL00 = keys_list[2:]\n",
    "\n",
    "with open('data.csv', 'w', newline=\"\") as csvfile:\n",
    "    csv_writer = csv.writer(csvfile, delimiter=',', quoting=csv.QUOTE_ALL)\n",
    "    shape = data_array.shape\n",
    "    csv_writer.writerow([\"GEO\",\"DAYSWEEK\",\"SEX\",\"ACL00\",\"Value\"])\n",
    "    for i in range(shape[0]):\n",
    "        for j in range(shape[1]):\n",
    "            for k in range(shape[2]):\n",
    "                for l in range(shape[3]):\n",
    "                    csv_writer.writerow([GEO[i], DAYSWEEK[j], SEX[k], ACL00[l], \n",
    "                                         str(data_array[i,j,k,l]) ])"
   ]
  },
  {
   "cell_type": "code",
   "execution_count": null,
   "metadata": {},
   "outputs": [],
   "source": []
  }
 ],
 "metadata": {
  "kernelspec": {
   "display_name": "Python 3",
   "language": "python",
   "name": "python3"
  },
  "language_info": {
   "codemirror_mode": {
    "name": "ipython",
    "version": 3
   },
   "file_extension": ".py",
   "mimetype": "text/x-python",
   "name": "python",
   "nbconvert_exporter": "python",
   "pygments_lexer": "ipython3",
   "version": "3.8.5"
  }
 },
 "nbformat": 4,
 "nbformat_minor": 4
}
